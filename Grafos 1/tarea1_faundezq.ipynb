{
 "cells": [
  {
   "cell_type": "code",
   "execution_count": 1,
   "metadata": {},
   "outputs": [],
   "source": [
    "import pandas as pd\n",
    "import numpy as np\n",
    "import networkx as nx\n",
    "from PIL import Image\n",
    "import os\n",
    "import matplotlib.pyplot as plt\n",
    "import collections"
   ]
  },
  {
   "cell_type": "markdown",
   "metadata": {},
   "source": [
    "# Representación de un grafo"
   ]
  },
  {
   "cell_type": "code",
   "execution_count": 2,
   "metadata": {},
   "outputs": [
    {
     "data": {
      "image/png": "[encoded data removed]",
      "text/plain": [
       "<PIL.PngImagePlugin.PngImageFile image mode=RGBA size=323x195 at 0x289E61F54A8>"
      ]
     },
     "execution_count": 2,
     "metadata": {},
     "output_type": "execute_result"
    }
   ],
   "source": [
    "Image.open('ej1.png')"
   ]
  },
  {
   "cell_type": "markdown",
   "metadata": {},
   "source": [
    "##### a) Escriba la matriz de adyacencia, la lista de aristas y la lista de adyacencia de $G$."
   ]
  },
  {
   "cell_type": "code",
   "execution_count": 3,
   "metadata": {},
   "outputs": [
    {
     "name": "stdout",
     "output_type": "stream",
     "text": [
      "Matriz de adyacencia\n"
     ]
    },
    {
     "data": {
      "text/html": [
       "<div>\n",
       "<style scoped>\n",
       "    .dataframe tbody tr th:only-of-type {\n",
       "        vertical-align: middle;\n",
       "    }\n",
       "\n",
       "    .dataframe tbody tr th {\n",
       "        vertical-align: top;\n",
       "    }\n",
       "\n",
       "    .dataframe thead th {\n",
       "        text-align: right;\n",
       "    }\n",
       "</style>\n",
       "<table border=\"1\" class=\"dataframe\">\n",
       "  <thead>\n",
       "    <tr style=\"text-align: right;\">\n",
       "      <th></th>\n",
       "      <th>A</th>\n",
       "      <th>B</th>\n",
       "      <th>C</th>\n",
       "      <th>D</th>\n",
       "      <th>E</th>\n",
       "    </tr>\n",
       "  </thead>\n",
       "  <tbody>\n",
       "    <tr>\n",
       "      <td>A</td>\n",
       "      <td>0</td>\n",
       "      <td>1</td>\n",
       "      <td>0</td>\n",
       "      <td>0</td>\n",
       "      <td>0</td>\n",
       "    </tr>\n",
       "    <tr>\n",
       "      <td>B</td>\n",
       "      <td>1</td>\n",
       "      <td>0</td>\n",
       "      <td>1</td>\n",
       "      <td>0</td>\n",
       "      <td>1</td>\n",
       "    </tr>\n",
       "    <tr>\n",
       "      <td>C</td>\n",
       "      <td>0</td>\n",
       "      <td>1</td>\n",
       "      <td>0</td>\n",
       "      <td>1</td>\n",
       "      <td>0</td>\n",
       "    </tr>\n",
       "    <tr>\n",
       "      <td>D</td>\n",
       "      <td>0</td>\n",
       "      <td>0</td>\n",
       "      <td>1</td>\n",
       "      <td>0</td>\n",
       "      <td>0</td>\n",
       "    </tr>\n",
       "    <tr>\n",
       "      <td>E</td>\n",
       "      <td>0</td>\n",
       "      <td>1</td>\n",
       "      <td>0</td>\n",
       "      <td>0</td>\n",
       "      <td>0</td>\n",
       "    </tr>\n",
       "  </tbody>\n",
       "</table>\n",
       "</div>"
      ],
      "text/plain": [
       "   A  B  C  D  E\n",
       "A  0  1  0  0  0\n",
       "B  1  0  1  0  1\n",
       "C  0  1  0  1  0\n",
       "D  0  0  1  0  0\n",
       "E  0  1  0  0  0"
      ]
     },
     "execution_count": 3,
     "metadata": {},
     "output_type": "execute_result"
    }
   ],
   "source": [
    "print('Matriz de adyacencia')\n",
    "pd.DataFrame({\n",
    "    'A':[0,1,0,0,0],\n",
    "    'B':[1,0,1,0,1],\n",
    "    'C':[0,1,0,1,0],\n",
    "    'D':[0,0,1,0,0],\n",
    "    'E':[0,1,0,0,0]\n",
    "}, index = ['A','B','C', 'D','E'])"
   ]
  },
  {
   "cell_type": "code",
   "execution_count": 4,
   "metadata": {},
   "outputs": [
    {
     "name": "stdout",
     "output_type": "stream",
     "text": [
      "Lista de aristas\n",
      "G = {{'A', 'B'}, {'C', 'B'}, {'B', 'E'}, {'C', 'D'}}\n"
     ]
    }
   ],
   "source": [
    "lista_aristas = [{'A','B'},{'B','C'},{'B','E'},{'C','D'}]\n",
    "print('Lista de aristas\\nG = {'+str(lista_aristas).replace('[','').replace(']','')+'}')   "
   ]
  },
  {
   "cell_type": "code",
   "execution_count": 5,
   "metadata": {},
   "outputs": [
    {
     "name": "stdout",
     "output_type": "stream",
     "text": [
      "Lista de adyacencia\n",
      "A : B\n",
      "B : A C E\n",
      "C : B D\n",
      "D : C\n",
      "E : B\n"
     ]
    }
   ],
   "source": [
    "lista_adyacencia = {'A': 'B','B': 'A C E', 'C':'B D','D':'C','E':'B'}\n",
    "print('Lista de adyacencia')\n",
    "for i in lista_adyacencia:\n",
    "    print(i,':', lista_adyacencia[i])"
   ]
  },
  {
   "cell_type": "markdown",
   "metadata": {},
   "source": [
    "##### b ) Usando el paquete Networkx de Python reproduzca el grafo $G$. Para esto cree un archivo de texto que contenga la lista de aristas y otro archivo que contenga la lista de adyacencia de $G$ (lea la documentación para saber cual es el formato que dichos archivos deben tener). A continuación genere los grafos $G_1$ y $G_2$ a través de la lectura del archivo de la lista de aristas y la lista de adyacencia, respectivamente. Finalmente grafique $G_1$ y $G_2$, verificando así que ambas representaciones generan grafos equivalentes entre sí y con $G$."
   ]
  },
  {
   "cell_type": "markdown",
   "metadata": {},
   "source": [
    "Se crean el archivo \"edge_list.edgelist\" a partir de la lista de aristas generada en la pregunta anterior, que se almacenó en la variable \"lista_aristas\". También se crea el archivo \"adyacency_list.adjlist\" a partir de la lista de adyacencia creada en la pregunta anterior, que se almacenó en la variable \"lista_adyacencia\".\n",
    "Luego, para leer estas listas se utilizan las funciones \"nx.read_edgelist\" y \"nx.read_adjlist\", respectivamente."
   ]
  },
  {
   "cell_type": "code",
   "execution_count": 6,
   "metadata": {},
   "outputs": [],
   "source": [
    "################################G1################################\n",
    "file = open(\"edge_list.edgelist\", \"w\")\n",
    "for i in lista_aristas:\n",
    "    file.write(str(i)[2]+' '+str(i)[-3]+ os.linesep)\n",
    "file.close()\n",
    "G1 = nx.read_edgelist(\"edge_list.edgelist\")\n",
    "pos1 = nx.spring_layout(G1, seed = 312)\n",
    "################################G2################################\n",
    "file = open(\"adyacency_list.adjlist\", \"w\")\n",
    "for i in lista_adyacencia:\n",
    "    file.write(i +' '+lista_adyacencia[i] + os.linesep)\n",
    "file.close()\n",
    "G2 = nx.read_adjlist(\"adyacency_list.adjlist\")\n",
    "pos2 = nx.spring_layout(G2, seed = 312)"
   ]
  },
  {
   "cell_type": "code",
   "execution_count": 7,
   "metadata": {},
   "outputs": [
    {
     "name": "stderr",
     "output_type": "stream",
     "text": [
      "D:\\Anaconda\\lib\\site-packages\\networkx\\drawing\\nx_pylab.py:579: MatplotlibDeprecationWarning: \n",
      "The iterable function was deprecated in Matplotlib 3.1 and will be removed in 3.3. Use np.iterable instead.\n",
      "  if not cb.iterable(width):\n"
     ]
    },
    {
     "data": {
      "image/png": "[encoded data removed]",
      "text/plain": [
       "<Figure size 432x288 with 2 Axes>"
      ]
     },
     "metadata": {},
     "output_type": "display_data"
    }
   ],
   "source": [
    "########################Gráficas G1 y G2##########################\n",
    "plt.subplot(121)\n",
    "plt.title('G1')\n",
    "nx.draw(G1, pos = pos1, with_labels=True, node_color = 'lightblue') \n",
    "plt.subplot(122)\n",
    "plt.title('G2')\n",
    "nx.draw(G2, pos = pos2, with_labels=True, node_color = 'lightblue') \n",
    "plt.show();"
   ]
  },
  {
   "cell_type": "markdown",
   "metadata": {},
   "source": [
    "##### c ) Usando el paquete Networkx obtenga la matriz de adyacencia de $G_1$ y a partir de ella encuentre el grado de cada nodo de $G$. **Hint** : El grado del nodo $i-ésimo$ de $G$, denotado por $k_i$ se puede obtener a través de la expresión $k_i = \\sum_{j=1}^{n} A_{ij}$ , con $n$ el número de nodos del grafo y $A_{ij}$ representando al elemento situado en la fila $i$, columna $j$ de la matriz de adyacencia."
   ]
  },
  {
   "cell_type": "markdown",
   "metadata": {},
   "source": [
    "Primero, se ordenarán los nodos de forma arbitraria, en este caso, por orden alfabético. Luego se utilizará la función \"adjacency_matrix\" del paquete Networkx para obtener la matriz y el método \"todense\" para imprimirla en forma de matriz.\n",
    "Finalmente, se recorrerá la matriz para ir sumando sobre sus columnas y de esa forma se obtendrá el grado por cada nodo. También podría realizarse por fila, ya que la matriz de adyacencia es simétrica."
   ]
  },
  {
   "cell_type": "code",
   "execution_count": 8,
   "metadata": {},
   "outputs": [
    {
     "name": "stdout",
     "output_type": "stream",
     "text": [
      "Matriz de adyacencia\n",
      " [[0 1 0 0 0]\n",
      " [1 0 1 0 1]\n",
      " [0 1 0 1 0]\n",
      " [0 0 1 0 0]\n",
      " [0 1 0 0 0]]\n"
     ]
    }
   ],
   "source": [
    "nodos_ordenados = ['A','B','C','D','E']\n",
    "matrix = nx.adjacency_matrix(G1, nodelist=nodos_ordenados)\n",
    "print('Matriz de adyacencia\\n',matrix.todense())"
   ]
  },
  {
   "cell_type": "code",
   "execution_count": 9,
   "metadata": {},
   "outputs": [
    {
     "name": "stdout",
     "output_type": "stream",
     "text": [
      "El nodo A tiene grado 1, es decir, k_A = 1\n",
      "El nodo B tiene grado 3, es decir, k_B = 3\n",
      "El nodo C tiene grado 2, es decir, k_C = 2\n",
      "El nodo D tiene grado 1, es decir, k_D = 1\n",
      "El nodo E tiene grado 1, es decir, k_E = 1\n"
     ]
    }
   ],
   "source": [
    "for i in range(len(G1.nodes)):\n",
    "    print('El nodo ' +nodos_ordenados[i]+' tiene grado '+str(matrix.sum(0)[0,i])+', es decir, k_'+\n",
    "          nodos_ordenados[i]+' = '+str(matrix.sum(0)[0,i]))"
   ]
  },
  {
   "cell_type": "markdown",
   "metadata": {},
   "source": [
    "##### d) Grafique el histograma de los grados del grafo. Use los grados obtenidos en el item anterior."
   ]
  },
  {
   "cell_type": "markdown",
   "metadata": {},
   "source": [
    "Primero se obtienen los grados de cada nodo con el método \"degree\" del paquete Networkx y se ordenan en forma descendente. Luego se cuentan a través del método \"Counter\" del paquete Collections, que genera un diccionario donde la llave es el grado y el valor es la cantidad de nodos que tienen ese grado. Los valores anteriores se guardan en las variables \"deg\" y \"cnt\" respectivamente."
   ]
  },
  {
   "cell_type": "code",
   "execution_count": 10,
   "metadata": {},
   "outputs": [
    {
     "name": "stdout",
     "output_type": "stream",
     "text": [
      "Grados en secuencia descendente [3, 2, 1, 1, 1]\n"
     ]
    },
    {
     "data": {
      "image/png": "[encoded data removed]",
      "text/plain": [
       "<Figure size 432x288 with 1 Axes>"
      ]
     },
     "metadata": {
      "needs_background": "light"
     },
     "output_type": "display_data"
    }
   ],
   "source": [
    "degree_sequence = sorted([d for n, d in G1.degree()], reverse=True)\n",
    "print (\"Grados en secuencia descendente\", degree_sequence)\n",
    "degreeCount = collections.Counter(degree_sequence) \n",
    "deg, cnt = zip(*degreeCount.items())\n",
    "\n",
    "fig, ax = plt.subplots()\n",
    "#plt.figure(figzise=(5,4))\n",
    "plt.bar(deg, cnt, align='center', color='royalblue')\n",
    "plt.title(\"Histograma de grado\")\n",
    "plt.ylabel(\"Frecuencia\")\n",
    "plt.xlabel(\"Grado\")\n",
    "ax.set_yticks([0,1,2,3])\n",
    "ax.set_xticks([d + 0 for d in deg])\n",
    "ax.set_xticklabels(deg)\n",
    "\n",
    "plt.show();"
   ]
  },
  {
   "cell_type": "markdown",
   "metadata": {},
   "source": [
    "# Clustering local versus global\n",
    "##### Considere el siguiente grafo $G$:"
   ]
  },
  {
   "cell_type": "code",
   "execution_count": 11,
   "metadata": {},
   "outputs": [
    {
     "data": {
      "image/png": "[encoded data removed]",
      "text/plain": [
       "<PIL.PngImagePlugin.PngImageFile image mode=RGBA size=300x235 at 0x289E62D6C50>"
      ]
     },
     "execution_count": 11,
     "metadata": {},
     "output_type": "execute_result"
    }
   ],
   "source": [
    "Image.open('ej2.PNG')"
   ]
  },
  {
   "cell_type": "markdown",
   "metadata": {},
   "source": [
    "##### a) Calcule el coeficiente de clustering $C = \\frac{1}{n} \\sum_{i = 1}^{n} C_i$ y el coeficiente de clustering global o transitividad $T = \\frac{3\\ \\times\\  \\#triangulos}{\\#tríadas}$  del grafo."
   ]
  },
  {
   "cell_type": "code",
   "execution_count": 12,
   "metadata": {},
   "outputs": [],
   "source": [
    "C_A = (2*1)/(2*(2-1))\n",
    "C_B = (2*1)/(2*(2-1))\n",
    "C_C = (2*1)/(2*(2-1))\n",
    "C_D = 0\n",
    "C_E = 0\n",
    "C_F = 0\n",
    "C_G = 0\n",
    "C = 1/7 * (C_A + C_B + C_C + C_D + C_E + C_F + C_G)"
   ]
  },
  {
   "cell_type": "code",
   "execution_count": 13,
   "metadata": {},
   "outputs": [],
   "source": [
    "n_triangulos = 1\n",
    "triadas = ['A-C-B', 'C-B-A', 'B-A-C', 'D-E-F', 'D-E-G', 'G-E-F']\n",
    "n_triadas = len(triadas)\n",
    "T = (3 * n_triangulos)/ n_triadas"
   ]
  },
  {
   "cell_type": "code",
   "execution_count": 14,
   "metadata": {},
   "outputs": [
    {
     "name": "stdout",
     "output_type": "stream",
     "text": [
      "El coeficiente de clustering es:  0.42857142857142855\n",
      "El coeficiente de clustering global o transitividad es:  0.5\n"
     ]
    }
   ],
   "source": [
    "print('El coeficiente de clustering es: ', C)\n",
    "print('El coeficiente de clustering global o transitividad es: ', T)"
   ]
  },
  {
   "cell_type": "markdown",
   "metadata": {},
   "source": [
    "##### b) ¿Qué ocurre con los coeficientes si se le agrega un nodo aislado? Como por ejemplo en el grafo $H$:"
   ]
  },
  {
   "cell_type": "code",
   "execution_count": 15,
   "metadata": {},
   "outputs": [],
   "source": [
    "C_H = 0\n",
    "C = 1/8 * (C_A + C_B + C_C + C_D + C_E + C_F + C_G + C_H)\n",
    "n_triangulos = 1\n",
    "triadas = ['A-C-B', 'C-B-A', 'B-A-C', 'D-E-F', 'D-E-G', 'G-E-F']\n",
    "n_triadas = len(triadas)\n",
    "T = (3 * n_triangulos)/ n_triadas"
   ]
  },
  {
   "cell_type": "code",
   "execution_count": 16,
   "metadata": {},
   "outputs": [
    {
     "name": "stdout",
     "output_type": "stream",
     "text": [
      "El coeficiente de clustering es:  0.375\n",
      "El coeficiente de clustering global o transitividad es:  0.5\n"
     ]
    }
   ],
   "source": [
    "print('El coeficiente de clustering es: ', C)\n",
    "print('El coeficiente de clustering global o transitividad es: ', T)"
   ]
  },
  {
   "cell_type": "markdown",
   "metadata": {},
   "source": [
    "Se observa que al agregar un nodo aislado, el coeficiente de clustering disminuye. Esto tiene sentido, ya que el nuevo nodo, al no estar conectado a los nodos anteriores, probablemente no pertenezca a ninguno de los grupos (ya sea porque es ruido o porque pertenece a otro cluster que no se puede ver con las observaciones disponibles)."
   ]
  },
  {
   "cell_type": "markdown",
   "metadata": {},
   "source": [
    "##### c) Usando el paquete Networkx obtenga los grafos $G$ y $H$, puede usar la representación que usted prefiera para crearlos, pero hágalo sin crear archivos adicionales como en la pregunta 1 (revise la documentación de Networkx para saber cómo hacerlo)."
   ]
  },
  {
   "cell_type": "code",
   "execution_count": 17,
   "metadata": {},
   "outputs": [
    {
     "name": "stderr",
     "output_type": "stream",
     "text": [
      "D:\\Anaconda\\lib\\site-packages\\networkx\\drawing\\nx_pylab.py:579: MatplotlibDeprecationWarning: \n",
      "The iterable function was deprecated in Matplotlib 3.1 and will be removed in 3.3. Use np.iterable instead.\n",
      "  if not cb.iterable(width):\n"
     ]
    },
    {
     "data": {
      "image/png": "[encoded data removed]",
      "text/plain": [
       "<Figure size 432x288 with 2 Axes>"
      ]
     },
     "metadata": {},
     "output_type": "display_data"
    }
   ],
   "source": [
    "G_2 = nx.Graph()\n",
    "nodos_g = ['A','B','C','D','E','F','G']\n",
    "G_2.add_nodes_from(nodos_g)\n",
    "G_2.add_edges_from([('A','B'),('B','C'),('A','C'),('D','E'),('E','G'),('E','F')])\n",
    "pos_g2 = nx.random_layout(G_2, seed = 312)\n",
    "plt.subplot(121)\n",
    "plt.title('G')\n",
    "G_2graph = nx.draw(G_2, pos =pos_g2, with_labels=True, node_color = 'lightblue')\n",
    "\n",
    "H = nx.Graph()\n",
    "nodos_h = ['A','B','C','D','E','F','G', 'H']\n",
    "H.add_nodes_from(nodos_h)\n",
    "H.add_edges_from([('A','B'),('B','C'),('A','C'),('D','E'),('E','G'),('E','F')])\n",
    "pos_h=nx.random_layout(H, seed = 312)\n",
    "plt.subplot(122)\n",
    "plt.title('H')\n",
    "H_graph = nx.draw(H, pos =pos_h, with_labels=True, node_color = 'lightblue')\n",
    "plt.show();"
   ]
  },
  {
   "cell_type": "markdown",
   "metadata": {},
   "source": [
    "##### d) Usando el paquete Networkx encuentre el coeficiente de clustering y la transitividad del grafo $G$ y del grafo $H.$"
   ]
  },
  {
   "cell_type": "code",
   "execution_count": 18,
   "metadata": {},
   "outputs": [
    {
     "name": "stdout",
     "output_type": "stream",
     "text": [
      "Coeficiente de clustering G:  0.42857142857142855\n",
      "Coeficiente de clustering H:  0.375\n",
      "Coeficiente de transitividad G:  0.5\n",
      "Coeficiente de transitividad H:  0.5\n"
     ]
    }
   ],
   "source": [
    "C_G_2 = nx.average_clustering(G_2)\n",
    "C_H = nx.average_clustering(H)\n",
    "T_G_2 = nx.transitivity(G_2)\n",
    "T_H = nx.transitivity(H)\n",
    "print('Coeficiente de clustering G: ',C_G_2 )\n",
    "print('Coeficiente de clustering H: ',C_H )\n",
    "print('Coeficiente de transitividad G: ',T_G_2 )\n",
    "print('Coeficiente de transitividad H: ',T_H )"
   ]
  },
  {
   "cell_type": "markdown",
   "metadata": {},
   "source": [
    "Se observa que los resultados calculados a mano en las preguntas a) y b), y los obtenidos a través del paquete Networkx coinciden."
   ]
  },
  {
   "cell_type": "markdown",
   "metadata": {},
   "source": [
    "# Redes Dispersas\n",
    "##### Sea $G$ un grafo simple, es decir no dirigido, sin loops, sin peso y con una sola arista entre vértices.\n",
    "##### a) Sea $L$ la cantidad de aristas de $G$. Exprese la suma de los grados de cada vértice en $G$, en términos de $L.$"
   ]
  },
  {
   "cell_type": "markdown",
   "metadata": {},
   "source": [
    "Bajo las condiciones anteriores, sea $k_i$ el grado del nodo $i-ésimo$, $n$ la cantidad de nodos y $L$ la cantidad de aristas, entonces la suma de los grados de cada vértice en $G$ en términos de $L$ puede expresarse como:\n",
    "$$\\sum_{i=1}^{n} k_i = 2 L $$"
   ]
  },
  {
   "cell_type": "markdown",
   "metadata": {},
   "source": [
    "##### b) Calcule $< k >$, el promedio del grado de los vértices de $G$."
   ]
  },
  {
   "cell_type": "markdown",
   "metadata": {},
   "source": [
    "Siendo $k_i$ el grado del nodo $i-ésimo$, $n$ la cantidad de nodos y $L$ la cantidad de aristas, entonces el promedio del grado de los vértices de $G$ puede expresarse como:\n",
    "$$<𝑘> = \\frac{2L}{n}$$"
   ]
  },
  {
   "cell_type": "markdown",
   "metadata": {},
   "source": [
    "##### c) Sea $n$ la cantidad de vértices de $G$. Determine la cantidad máxima de aristas, $Lmax$, que $G$ puede tener. Hint: Puede pensar el cálculo de las aristas como un problema de combinatoria o puede contar los elementos de la matriz de adyacencia.\n"
   ]
  },
  {
   "cell_type": "markdown",
   "metadata": {},
   "source": [
    "Similar a como se calcula la cantidad de diagonales máximas en un polígono de $n$ lados $D_{max} = \\frac{n(n-3)}{2}$, en una red $G$ de $n$ nodos (o vértices), la cantidad máxima de aristas que pueden existir está dada por una fórmula similar, pero dado que en el polígono se descuentan los \"lados\" del mismo (n-3) en este caso no deben descontarse ya que son aristas (n-1):\n",
    "$$L_{max} = \\frac{n(n-1)}{2}$$"
   ]
  },
  {
   "cell_type": "markdown",
   "metadata": {},
   "source": [
    "##### d) Obtenga la densidad $ρ$ de $G$, que corresponde a la fracción de aristas que existe en el grafo, en contraste con la cantidad máxima posible. Escribalo en términos de $< k >$ y $n$."
   ]
  },
  {
   "cell_type": "markdown",
   "metadata": {},
   "source": [
    "Dada la definición de $ρ$, se tiene que:\n",
    "$$ρ = \\frac{aristas\\ en\\ G}{aristas\\ máximas\\ en\\ G} = \\frac{L}{L_{max}}$$\n",
    "Del cálculo de $<𝑘>$ en el ejercicio b se tiene que:\n",
    "$$<𝑘> = \\frac{2L}{n} \\ \\ \\Rightarrow\\ \\  L = \\frac{n<𝑘>}{2}$$\n",
    "Luego:\n",
    "$$ρ = \\frac{L}{L_{max}} = \\frac {\\frac{n<𝑘>}{2}}{\\frac{n(n-1)}{2}} = \\frac {<𝑘>}{(n-1)} $$\n",
    "Por lo tanto, $$ρ = \\frac {<𝑘>}{(n-1)} $$"
   ]
  },
  {
   "cell_type": "markdown",
   "metadata": {},
   "source": [
    "##### e) En la mayoría de las redes reales ocurre que $ρ$ es cercano a 0, o equivalentemente $L << Lmax$. ¿Por qué cree que ocurre este fenómeno? Dé un ejemplo de una red con este comportamiento.\n"
   ]
  },
  {
   "cell_type": "markdown",
   "metadata": {},
   "source": [
    "Creo que en la mayoría de los casos que se estudian a través de redes, el número de aristas es muy inferior al número de aristas máximas, porque por ejemplo, en fenómenos sociales, lo normal es que las personas formen grupos con simpatizantes o se identifican y relacionan con individuos de características determinadas. Esto se traduciría en que al momento de establecer \"aristas\" para reflejar este tipo de relaciones, habrán \"aristas inexistentes\". Por otra parte, al estudiar conectividad a través de vuelos, carreteras, llamadas, etc, hay que considerar que estas aristas tienen un **costo**, y por tanto, el número teórico de aristas máximas será muy superior al número de aristas que se pueden alcanzar."
   ]
  },
  {
   "cell_type": "markdown",
   "metadata": {},
   "source": [
    "# Circular layout\n",
    "##### Sea $K_n$ un grafo completo de $n$ vértices, es decir un grafo simple en donde todos los nodos están conectados entre si.\n",
    "##### a) Dibuje $K_1$, $K_2$, $K_3$, $K_4$, y $K_5$. Hint: $K_n$ tiene una representación visualmente atractiva si se representa como un polígono regular de n vértices, Ej: $K_8$ se asemeja a un octágono.\n"
   ]
  },
  {
   "cell_type": "code",
   "execution_count": 19,
   "metadata": {},
   "outputs": [
    {
     "data": {
      "image/png": "[encoded data removed]",
      "text/plain": [
       "<Figure size 504x504 with 4 Axes>"
      ]
     },
     "metadata": {},
     "output_type": "display_data"
    }
   ],
   "source": [
    "K1 = nx.complete_graph(1)\n",
    "K2 = nx.complete_graph(2)\n",
    "K3 = nx.complete_graph(3)\n",
    "K4 = nx.complete_graph(4)\n",
    "posk1 = nx.circular_layout(K1)\n",
    "posk2 = nx.circular_layout(K2)\n",
    "posk3 = nx.circular_layout(K3)\n",
    "posk4 = nx.circular_layout(K4)\n",
    "plt.figure(figsize=(7,7))\n",
    "plt.subplot(221)\n",
    "plt.title('K1')\n",
    "nx.draw(K1, with_labels=True, pos = posk1, labels = {0: '1'}, node_color = 'lightblue') \n",
    "plt.subplot(222)\n",
    "plt.title('K2')\n",
    "nx.draw(K2, with_labels=True, pos = posk2, labels = {0: '2', 1 : '1'}, node_color = 'lightblue')\n",
    "plt.subplot(223)\n",
    "plt.title('K3')\n",
    "nx.draw(K3, with_labels=True, pos = posk3, labels = {0: '2', 1: '1', 2: '3'}, node_color = 'lightblue')\n",
    "plt.subplot(224)\n",
    "plt.title('K4')\n",
    "nx.draw(K4, with_labels=True, pos = posk4, labels = {0: '2', 1 : '1', 2:'4', 3:'3'},node_color = 'lightblue') \n",
    "plt.show();"
   ]
  },
  {
   "cell_type": "markdown",
   "metadata": {},
   "source": [
    "##### b) ¿Cuántas aristas tiene $K_n$?"
   ]
  },
  {
   "cell_type": "markdown",
   "metadata": {},
   "source": [
    "La cantidad máxima de aristas de un grafo completo se calcula de manera similar a la cantidad de diagonales de un polígono, pero dado que en el polígono se descuentan los \"lados\" del mismo (n-3) en este caso no deben descontarse ya que son aristas (n-1):\n",
    "$$Aristas\\ de\\ K_n = \\frac{n(n-1)}{2}$$"
   ]
  },
  {
   "cell_type": "markdown",
   "metadata": {},
   "source": [
    "##### c) Imagine que los polígonos del primer inciso están inscritos en una circunferencia. Usted podrá notar que conforme crece $n$, el perímetro del polígono contenido en la circunferencia se asemeja cada vez más al perímetro de ella. Teniendo esto en cuenta, dibuje $K_n$ cuando $n → ∞$.\n"
   ]
  },
  {
   "cell_type": "markdown",
   "metadata": {},
   "source": [
    "A medida que aumenta $n$, los nodos van quedando cada vez más juntos formando un perímetro de circunferencia, pero también se van dibujando aristas entre nodos que no son vecinos inmediatos y, por tanto, estas aristas quedan expresadas como $cuerdas$ de la cirunferencia. \n",
    "Entonces cuando $n → ∞$ debe apreciarse un perímetro de circunferencia conformado por nodos (parte celeste de la figura) y un área interior llena de cuerdas (parte negra de la figura), que son las aristas entre esos nodos.\n",
    "A modo de ejemplo, se presenta cómo se visualiza lo anteriormente explicado cuando $n$ es muy grande:"
   ]
  },
  {
   "cell_type": "code",
   "execution_count": 20,
   "metadata": {},
   "outputs": [
    {
     "data": {
      "image/png": "[encoded data removed]",
      "text/plain": [
       "<Figure size 288x288 with 1 Axes>"
      ]
     },
     "metadata": {},
     "output_type": "display_data"
    }
   ],
   "source": [
    "Kn = nx.complete_graph(300)\n",
    "poskn = nx.circular_layout(Kn)\n",
    "plt.figure(figsize=(4,4))\n",
    "plt.title('Kn')\n",
    "nx.draw(Kn, with_labels=False, pos = poskn, node_color = 'lightblue') "
   ]
  },
  {
   "cell_type": "markdown",
   "metadata": {},
   "source": [
    "# Igualdad de grafos\n",
    "##### Un isomorfismo entre dos grafos $G$ y $H$ es una función que transforma los nombres de los nodos de $G$ a nombres de nodos en $H$, pero preservando las relaciones entre las aristas de $G$. Esto último tiene una implicancia profunda: un isomorfismo preserva la estructura completa de $G$, es decir, su cantidad de aristas, la distribución de los grados, la cantidad de ciclos, etc. Toda propiedad estructural que tenga el grafo $G$ se preserva en el grafo $H$. Se dice que dos grafos son isomorfos si existe un isomorfismo entre ellos, por ejemplo:"
   ]
  },
  {
   "cell_type": "code",
   "execution_count": 21,
   "metadata": {},
   "outputs": [
    {
     "data": {
      "image/png": "[encoded data removed]",
      "text/plain": [
       "<PIL.PngImagePlugin.PngImageFile image mode=RGBA size=354x203 at 0x289E835C208>"
      ]
     },
     "execution_count": 21,
     "metadata": {},
     "output_type": "execute_result"
    }
   ],
   "source": [
    "Image.open('ej5.png')"
   ]
  },
  {
   "cell_type": "markdown",
   "metadata": {},
   "source": [
    "##### En este caso, la función que representa el isomorfismo es explícitamente $f(A) = 5, f(B) = 4 y f(C) = 3$. Luego $G$ y $H$ son isomorfos."
   ]
  },
  {
   "cell_type": "markdown",
   "metadata": {},
   "source": [
    "##### a) Determine si el grafo de la pregunta 1 es isomorfo a:"
   ]
  },
  {
   "cell_type": "code",
   "execution_count": 22,
   "metadata": {},
   "outputs": [
    {
     "data": {
      "image/png": "[encoded data removed]",
      "text/plain": [
       "<PIL.PngImagePlugin.PngImageFile image mode=RGBA size=280x223 at 0x289E835C978>"
      ]
     },
     "execution_count": 22,
     "metadata": {},
     "output_type": "execute_result"
    }
   ],
   "source": [
    "Image.open('ej5a.PNG')"
   ]
  },
  {
   "cell_type": "markdown",
   "metadata": {},
   "source": [
    "El grafo de la pregunta 1 no es isomorfo a este grafo, porque éste no contiene la misma información que el primero. Si bien ambos grafos contienen la misma cantidad de nodos (5), el primer grafo contiene un nodo con grado 3, que es el nodo B, a diferencia de este grafo, donde los nodos de mayor grado son de grado 2. Por lo tanto, contienen información distinta y no son isomorfos."
   ]
  },
  {
   "cell_type": "markdown",
   "metadata": {},
   "source": [
    "##### b) Se denomina automorfismo de un grafo $G$ a un isomorfismo que va desde $G$ en si mismo. Es decir, un automorfismo es un reordenamiento de los nombres de los vértices de G, cuidando de que la estructura del grafo se preserve. Determine cuántos automorfismos existen en $K_1$, $K_2$ y $K_3$."
   ]
  },
  {
   "cell_type": "markdown",
   "metadata": {},
   "source": [
    "$K_1$ sólo contiene un vértice, por tanto, $\\# automorfismos = 0$.\n",
    "\n",
    "$K_2$ contiene dos vértices y por combinatoria se puede obtener que sólo existen dos formas de ordenar dos nodos, por tanto, $\\# automorfismos = 2! = 1\\ \\cdot \\ 2 = 2$.\n",
    "\n",
    "$K_3$ contiene dos vértices y por combinatoria se puede obtener que sólo existen dos formas de ordenar dos nodos, por tanto, $\\# automorfismos = 3! = 1\\ \\cdot \\ 2 \\ \\cdot \\ 3 = 6$.\n"
   ]
  },
  {
   "cell_type": "markdown",
   "metadata": {},
   "source": [
    "##### c) Determine la cantidad de automorfismos posibles que tiene Kn."
   ]
  },
  {
   "cell_type": "markdown",
   "metadata": {},
   "source": [
    "Dado el patrón anterior, $K_n$ tiene $n!$ automorfismos. En la pregunta anterior ya lo había abordado como combinatoria, para ver cuántas formas tienen de ordenarse los nodos, pero me di cuenta de que también se puede observar desde la matriz de adyacencia, calculando de cuántas formas se pueden ordenar las filas. Llegué también al enfoque de combinatoria."
   ]
  }
 ],
 "metadata": {
  "kernelspec": {
   "display_name": "Python 3",
   "language": "python",
   "name": "python3"
  },
  "language_info": {
   "codemirror_mode": {
    "name": "ipython",
    "version": 3
   },
   "file_extension": ".py",
   "mimetype": "text/x-python",
   "name": "python",
   "nbconvert_exporter": "python",
   "pygments_lexer": "ipython3",
   "version": "3.7.3"
  }
 },
 "nbformat": 4,
 "nbformat_minor": 2
}
